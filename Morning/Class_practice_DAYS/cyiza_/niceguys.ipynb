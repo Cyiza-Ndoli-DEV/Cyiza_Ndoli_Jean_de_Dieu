{
 "cells": [
  {
   "cell_type": "code",
   "execution_count": 3,
   "id": "d24b189f",
   "metadata": {},
   "outputs": [
    {
     "name": "stdout",
     "output_type": "stream",
     "text": [
      "2.2.2\n"
     ]
    }
   ],
   "source": [
    "# Read CSV file\n",
    "import pandas as pd\n",
    "\n",
    "print(pd.__version__)"
   ]
  },
  {
   "cell_type": "code",
   "execution_count": 4,
   "id": "f98a4fdd",
   "metadata": {},
   "outputs": [
    {
     "name": "stderr",
     "output_type": "stream",
     "text": [
      "Matplotlib is building the font cache; this may take a moment.\n"
     ]
    }
   ],
   "source": [
    "import pandas as pd        # For data manipulation and analysis\n",
    "import numpy as np         # For numerical operations\n",
    "import csv                 # For basic CSV file operations\n",
    "import matplotlib.pyplot as plt  # For data visualization\n"
   ]
  },
  {
   "cell_type": "code",
   "execution_count": 4,
   "id": "feab6c77",
   "metadata": {},
   "outputs": [
    {
     "name": "stdout",
     "output_type": "stream",
     "text": [
      "   number_siblings                   name     sex  age living allowance  \\\n",
      "0                1     Nakasujja Gertrude  female   33              NaN   \n",
      "1                3  Arinda Asiimwe Atweta  female   23           50,000   \n",
      "2                4    Ndjekornom Victoire    male   23            25000   \n",
      "3                0         KATURAMU EDGAR    male   27           500000   \n",
      "4                4      Abinsinguza Lasse    male   24        sh:100000   \n",
      "\n",
      "                  Are_you_a  How_many_time_do_eat_food  Unnamed: 7  \\\n",
      "0            Data Scientist                          2         NaN   \n",
      "1  Machine Learning Enginer                          1         NaN   \n",
      "2            Data Scientist                          1         NaN   \n",
      "3  Machine Learning Enginer                          2         NaN   \n",
      "4            Data Scientist                          2         NaN   \n",
      "\n",
      "   do_you_have_aboyfriend/girlfriend  \n",
      "0                                  1  \n",
      "1                                  1  \n",
      "2                                  0  \n",
      "3                                  0  \n",
      "4                                  1  \n"
     ]
    }
   ],
   "source": [
    "# Load the dataset\n",
    "\n",
    "df = pd.read_csv(\"niceguys.csv\")\n",
    "\n",
    "# display\n",
    "\n",
    "print(df.head(5))"
   ]
  },
  {
   "cell_type": "code",
   "execution_count": 1,
   "id": "dd9371da",
   "metadata": {},
   "outputs": [
    {
     "ename": "NameError",
     "evalue": "name 'df' is not defined",
     "output_type": "error",
     "traceback": [
      "\u001b[0;31m---------------------------------------------------------------------------\u001b[0m",
      "\u001b[0;31mNameError\u001b[0m                                 Traceback (most recent call last)",
      "Cell \u001b[0;32mIn[1], line 2\u001b[0m\n\u001b[1;32m      1\u001b[0m \u001b[38;5;66;03m# Fill in the missing values \u001b[39;00m\n\u001b[0;32m----> 2\u001b[0m \u001b[43mdf\u001b[49m[\u001b[38;5;124m'\u001b[39m\u001b[38;5;124mliving_allowance\u001b[39m\u001b[38;5;124m'\u001b[39m]\u001b[38;5;241m.\u001b[39mfillina(df[\u001b[38;5;124m'\u001b[39m\u001b[38;5;124mliving_allowance\u001b[39m\u001b[38;5;124m'\u001b[39m]\u001b[38;5;241m.\u001b[39mmedian(), inplace \u001b[38;5;241m=\u001b[39m \u001b[38;5;28;01mTrue\u001b[39;00m)\n\u001b[1;32m      4\u001b[0m \u001b[38;5;66;03m# Drop row where living allowance clomn has a value 50000 and 1000000\u001b[39;00m\n\u001b[1;32m      6\u001b[0m df[\u001b[38;5;241m~\u001b[39mdf[\u001b[38;5;124m'\u001b[39m\u001b[38;5;124mliving_allowance\u001b[39m\u001b[38;5;124m'\u001b[39m]\u001b[38;5;241m.\u001b[39misin([\u001b[38;5;241m50000\u001b[39m,\u001b[38;5;241m1000000\u001b[39m])]\n",
      "\u001b[0;31mNameError\u001b[0m: name 'df' is not defined"
     ]
    }
   ],
   "source": [
    "# Fill in the missing values \n",
    "df['living_allowance'].fillina(df['living_allowance'].median(), inplace = True)\n",
    "\n",
    "# Drop row where living allowance clomn has a value 50000 and 1000000\n",
    "\n",
    "df[~df['living_allowance'].isin([50000,1000000])]\n",
    "\n",
    "\n",
    "\n"
   ]
  },
  {
   "cell_type": "code",
   "execution_count": 3,
   "id": "e947c3b8",
   "metadata": {},
   "outputs": [
    {
     "name": "stdout",
     "output_type": "stream",
     "text": [
      "Defaulting to user installation because normal site-packages is not writeable\n",
      "Collecting matplotlib\n",
      "  Downloading matplotlib-3.9.0-cp312-cp312-manylinux_2_17_x86_64.manylinux2014_x86_64.whl.metadata (11 kB)\n",
      "Collecting contourpy>=1.0.1 (from matplotlib)\n",
      "  Downloading contourpy-1.2.1-cp312-cp312-manylinux_2_17_x86_64.manylinux2014_x86_64.whl.metadata (5.8 kB)\n",
      "Collecting cycler>=0.10 (from matplotlib)\n",
      "  Downloading cycler-0.12.1-py3-none-any.whl.metadata (3.8 kB)\n",
      "Collecting fonttools>=4.22.0 (from matplotlib)\n",
      "  Downloading fonttools-4.53.0-cp312-cp312-manylinux_2_5_x86_64.manylinux1_x86_64.manylinux_2_17_x86_64.manylinux2014_x86_64.whl.metadata (162 kB)\n",
      "\u001b[2K     \u001b[38;2;114;156;31m━━━━━━━━━━━━━━━━━━━━━━━━━━━━━━━━━━━━━\u001b[0m \u001b[32m162.2/162.2 kB\u001b[0m \u001b[31m325.6 kB/s\u001b[0m eta \u001b[36m0:00:00\u001b[0m kB/s\u001b[0m eta \u001b[36m0:00:01\u001b[0m:01\u001b[0m\n",
      "\u001b[?25hCollecting kiwisolver>=1.3.1 (from matplotlib)\n",
      "  Downloading kiwisolver-1.4.5-cp312-cp312-manylinux_2_17_x86_64.manylinux2014_x86_64.whl.metadata (6.4 kB)\n",
      "Requirement already satisfied: numpy>=1.23 in /home/cheguezulu/.local/lib/python3.12/site-packages (from matplotlib) (2.0.0)\n",
      "Requirement already satisfied: packaging>=20.0 in /usr/lib/python3.12/site-packages (from matplotlib) (23.2)\n",
      "Requirement already satisfied: pillow>=8 in /usr/lib64/python3.12/site-packages (from matplotlib) (10.3.0)\n",
      "Collecting pyparsing>=2.3.1 (from matplotlib)\n",
      "  Downloading pyparsing-3.1.2-py3-none-any.whl.metadata (5.1 kB)\n",
      "Requirement already satisfied: python-dateutil>=2.7 in /usr/lib/python3.12/site-packages (from matplotlib) (2.8.2)\n",
      "Requirement already satisfied: six>=1.5 in /usr/lib/python3.12/site-packages (from python-dateutil>=2.7->matplotlib) (1.16.0)\n",
      "Downloading matplotlib-3.9.0-cp312-cp312-manylinux_2_17_x86_64.manylinux2014_x86_64.whl (8.3 MB)\n",
      "\u001b[2K   \u001b[38;2;114;156;31m━━━━━━━━━━━━━━━━━━━━━━━━━━━━━━━━━━━━━━━━\u001b[0m \u001b[32m8.3/8.3 MB\u001b[0m \u001b[31m153.2 kB/s\u001b[0m eta \u001b[36m0:00:00\u001b[0mm eta \u001b[36m0:00:01\u001b[0m[36m0:00:02\u001b[0m\n",
      "\u001b[?25hDownloading contourpy-1.2.1-cp312-cp312-manylinux_2_17_x86_64.manylinux2014_x86_64.whl (309 kB)\n",
      "\u001b[2K   \u001b[38;2;114;156;31m━━━━━━━━━━━━━━━━━━━━━━━━━━━━━━━━━━━━━━━\u001b[0m \u001b[32m309.2/309.2 kB\u001b[0m \u001b[31m989.9 kB/s\u001b[0m eta \u001b[36m0:00:00\u001b[0m eta \u001b[36m0:00:01\u001b[0m0:01\u001b[0m:01\u001b[0m\n",
      "\u001b[?25hDownloading cycler-0.12.1-py3-none-any.whl (8.3 kB)\n",
      "Downloading fonttools-4.53.0-cp312-cp312-manylinux_2_5_x86_64.manylinux1_x86_64.manylinux_2_17_x86_64.manylinux2014_x86_64.whl (4.9 MB)\n",
      "\u001b[2K   \u001b[38;2;114;156;31m━━━━━━━━━━━━━━━━━━━━━━━━━━━━━━━━━━━━━━━━\u001b[0m \u001b[32m4.9/4.9 MB\u001b[0m \u001b[31m2.0 MB/s\u001b[0m eta \u001b[36m0:00:00\u001b[0mm eta \u001b[36m0:00:01\u001b[0m0:01\u001b[0m:01\u001b[0m\n",
      "\u001b[?25hDownloading kiwisolver-1.4.5-cp312-cp312-manylinux_2_17_x86_64.manylinux2014_x86_64.whl (1.5 MB)\n",
      "\u001b[2K   \u001b[38;2;114;156;31m━━━━━━━━━━━━━━━━━━━━━━━━━━━━━━━━━━━━━━━━\u001b[0m \u001b[32m1.5/1.5 MB\u001b[0m \u001b[31m2.4 MB/s\u001b[0m eta \u001b[36m0:00:00\u001b[0mm eta \u001b[36m0:00:01\u001b[0m0:01\u001b[0m:01\u001b[0m\n",
      "\u001b[?25hDownloading pyparsing-3.1.2-py3-none-any.whl (103 kB)\n",
      "\u001b[2K   \u001b[38;2;114;156;31m━━━━━━━━━━━━━━━━━━━━━━━━━━━━━━━━━━━━━━━\u001b[0m \u001b[32m103.2/103.2 kB\u001b[0m \u001b[31m420.9 kB/s\u001b[0m eta \u001b[36m0:00:00\u001b[0mm eta \u001b[36m0:00:01\u001b[0m\n",
      "\u001b[?25hInstalling collected packages: pyparsing, kiwisolver, fonttools, cycler, contourpy, matplotlib\n",
      "Successfully installed contourpy-1.2.1 cycler-0.12.1 fonttools-4.53.0 kiwisolver-1.4.5 matplotlib-3.9.0 pyparsing-3.1.2\n",
      "Note: you may need to restart the kernel to use updated packages.\n"
     ]
    }
   ],
   "source": [
    "%pip install matplotlib\n"
   ]
  },
  {
   "cell_type": "code",
   "execution_count": 1,
   "id": "aa6052c8",
   "metadata": {},
   "outputs": [
    {
     "name": "stdout",
     "output_type": "stream",
     "text": [
      "pandas is installed.\n",
      "numpy is installed.\n",
      "matplotlib.pyplot is installed.\n",
      "seaborn is NOT installed: No module named 'seaborn'\n",
      "plotly.express is NOT installed: No module named 'plotly'\n",
      "altair is NOT installed: No module named 'altair'\n",
      "sklearn is NOT installed: No module named 'sklearn'\n",
      "statsmodels.api is NOT installed: No module named 'statsmodels'\n",
      "tensorflow is NOT installed: No module named 'tensorflow'\n",
      "keras is NOT installed: No module named 'keras'\n",
      "torch is NOT installed: No module named 'torch'\n",
      "scipy is NOT installed: No module named 'scipy'\n",
      "sympy is NOT installed: No module named 'sympy'\n",
      "skimage.io is NOT installed: No module named 'skimage'\n",
      "bs4 is installed.\n",
      "PIL is installed.\n",
      "nltk is NOT installed: No module named 'nltk'\n",
      "spacy is NOT installed: No module named 'spacy'\n",
      "gensim is NOT installed: No module named 'gensim'\n",
      "openpyxl is NOT installed: No module named 'openpyxl'\n",
      "requests is installed.\n",
      "sqlalchemy is NOT installed: No module named 'sqlalchemy'\n",
      "pyodbc is NOT installed: No module named 'pyodbc'\n"
     ]
    }
   ],
   "source": [
    "libraries = [\n",
    "    'pandas', 'numpy', 'matplotlib.pyplot', 'seaborn', 'plotly.express', 'altair',\n",
    "    'sklearn', 'statsmodels.api', 'tensorflow', 'keras', 'torch', 'scipy', 'sympy',\n",
    "    'skimage.io', 'bs4', 'PIL', 'nltk', 'spacy', 'gensim', 'openpyxl', 'requests',\n",
    "    'sqlalchemy', 'pyodbc'\n",
    "]\n",
    "\n",
    "for lib in libraries:\n",
    "    try:\n",
    "        exec(f\"import {lib}\")\n",
    "        print(f\"{lib} is installed.\")\n",
    "    except ModuleNotFoundError as e:\n",
    "        print(f\"{lib} is NOT installed: {e}\")\n",
    "    except ImportError as e:\n",
    "        print(f\"An import error occurred for {lib}: {e}\")\n",
    "\n"
   ]
  },
  {
   "cell_type": "code",
   "execution_count": null,
   "id": "08ab8f08",
   "metadata": {},
   "outputs": [],
   "source": []
  }
 ],
 "metadata": {
  "kernelspec": {
   "display_name": "Python 3 (ipykernel)",
   "language": "python",
   "name": "python3"
  },
  "language_info": {
   "codemirror_mode": {
    "name": "ipython",
    "version": 3
   },
   "file_extension": ".py",
   "mimetype": "text/x-python",
   "name": "python",
   "nbconvert_exporter": "python",
   "pygments_lexer": "ipython3",
   "version": "3.12.3"
  }
 },
 "nbformat": 4,
 "nbformat_minor": 5
}
