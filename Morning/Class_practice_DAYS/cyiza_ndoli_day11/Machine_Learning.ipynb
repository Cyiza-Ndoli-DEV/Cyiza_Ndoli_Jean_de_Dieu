{
 "cells": [
  {
   "cell_type": "code",
   "execution_count": null,
   "metadata": {},
   "outputs": [],
   "source": [
    "# Machine Learning \n",
    "# Types of machine learning\n",
    "\n",
    "\n",
    "# Supervised Learning:Learns from labeled data to predict outputs for new things \n",
    "# Unsupervised Learning: Learns from inlabeled data to identify patterns and structures within data\n",
    "# Reinforcement Learning\n",
    "\n",
    "# 1====Supervised: Algorithms\n",
    "# Labelled data, predict the ouput for new inputs, Common task, Classification and Regression\n",
    "\n",
    "#     Regression ,Linear, Polynomial\n",
    "#     Classification\n",
    "#     Logistic Regression, K-Nearest(kNN), Support Vector Machine(SVM), Decision Trees and Random Forest\n",
    "\n",
    "\n",
    "\n",
    "# Model Evaluation \n",
    "# Metrics: Accuracy,Precision,Recall,F1-Score\n",
    "\n",
    "# Confusion Matrix\n",
    "\n",
    "# AUC and ROC , Area under the curve Receiver Operating Characteristics curve \n",
    "\n",
    "\n",
    "# 2====# Unsupervised Learning \n",
    "\n",
    "\n",
    "# Unlabelled find the hidden patterns or structures in data Common tasklike, clustering, Dimensionality , assciation Rule learning\n"
   ]
  },
  {
   "cell_type": "code",
   "execution_count": null,
   "metadata": {},
   "outputs": [],
   "source": [
    "# Data Processing \n",
    "# Data Cleaning \n",
    "# Steps\n",
    "# Check for \n",
    "# 1.Duplicates, wrong data,empty cell,missing data\n",
    "# 2.Handling missing data : remove/delete, Imputation ,Mean/Median/Mode Use forward/backward  filling , KNN for regression \n"
   ]
  },
  {
   "cell_type": "code",
   "execution_count": null,
   "metadata": {},
   "outputs": [],
   "source": [
    "\n",
    "# Exploratory Data Analysis \n",
    "# StartResponseDescriptive Statistics\n",
    "# Measure of central tendency, Mean,Meadian,mode  Measure of spread: Range,Variance,Standard deviation, Interquartile range\n",
    "# Skewness,Kurtosis\n",
    "# Data Visualization: Histogram-distribution of a single variable, Box plots-Identifying ouliers \n",
    "# Scatter plot - examining relationships between two variables \n",
    "# HeatMaps - Visualizing correlation matrics"
   ]
  },
  {
   "cell_type": "code",
   "execution_count": null,
   "metadata": {},
   "outputs": [],
   "source": [
    "# Tools for Data Visualization \n",
    "# Matplotlib, Liine, Bar, Scatter aand histogram \n",
    "# Searborn,themes,color palettes: Helps look more attractive\n",
    "# Plotly, Bokeh\n"
   ]
  },
  {
   "cell_type": "code",
   "execution_count": null,
   "metadata": {},
   "outputs": [],
   "source": [
    "\n",
    "# Feature Engineering\n",
    "# Selection, Filter like chi-square, ANOVA\n",
    "# Wrapper recursive featuresEmbedded, Lasso regression\n",
    "\n",
    "\n",
    "# Feature scaling and Normalization \n",
    "# Normalization Rescale to a range (Age: 20-23)\n",
    "# Create new features,Polynomials, Interaction"
   ]
  },
  {
   "cell_type": "code",
   "execution_count": null,
   "metadata": {},
   "outputs": [],
   "source": [
    "\n",
    "# Data Splitting\n",
    "# Training and evaluation of a model\n",
    "# Most common ratios, 20testing - 80testing, 30 70\n",
    "# Import sckit-learn help to splite "
   ]
  },
  {
   "cell_type": "code",
   "execution_count": null,
   "metadata": {},
   "outputs": [],
   "source": [
    "\n",
    "# Random state is used to shuffle data before splitting it into a training and test set\n",
    "\n",
    "# Cross validation - Evaluate the performance of the data multiple folds \n",
    "# Types are: Train/test we can use K-fold Cross Validation\n",
    "# Stratified k-Fold,Ensure our distribution of the target variable,particularly used in the imbalance datasets\n",
    "# Cross validation helps in reducing variance in model performance estimates \n",
    "# Provides a comprehensive evaluation of model performance\n",
    "    "
   ]
  },
  {
   "cell_type": "code",
   "execution_count": null,
   "metadata": {},
   "outputs": [],
   "source": [
    "# HERE YOU NOW SHOW THE ALGORITHM THAT YOU USED "
   ]
  }
 ],
 "metadata": {
  "language_info": {
   "name": "python"
  }
 },
 "nbformat": 4,
 "nbformat_minor": 2
}
