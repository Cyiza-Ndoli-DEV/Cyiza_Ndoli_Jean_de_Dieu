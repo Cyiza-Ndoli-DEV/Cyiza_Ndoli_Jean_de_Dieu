{
 "cells": [
  {
   "cell_type": "markdown",
   "id": "b4b4c0af-18d4-4d3c-af3e-cba61088fcfa",
   "metadata": {},
   "source": [
    "<h1 style = \"font-size:3rem;color:orange;\">Jupyter starter</h1>"
   ]
  },
  {
   "cell_type": "code",
   "execution_count": null,
   "id": "c3de3606-33e8-47fb-bd13-6e74e9baf446",
   "metadata": {},
   "outputs": [],
   "source": []
  }
 ],
 "metadata": {
  "kernelspec": {
   "display_name": "Python 3 (ipykernel)",
   "language": "python",
   "name": "python3"
  },
  "language_info": {
   "codemirror_mode": {
    "name": "ipython",
    "version": 3
   },
   "file_extension": ".py",
   "mimetype": "text/x-python",
   "name": "python",
   "nbconvert_exporter": "python",
   "pygments_lexer": "ipython3",
   "version": "3.12.3"
  }
 },
 "nbformat": 4,
 "nbformat_minor": 5
}
