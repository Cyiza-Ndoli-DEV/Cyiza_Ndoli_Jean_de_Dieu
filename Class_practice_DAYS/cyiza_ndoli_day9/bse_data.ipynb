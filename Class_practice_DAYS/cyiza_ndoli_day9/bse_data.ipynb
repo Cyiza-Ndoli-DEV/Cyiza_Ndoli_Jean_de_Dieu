{
 "cells": [
  {
   "cell_type": "code",
   "execution_count": 17,
   "id": "1af38e5d-9c58-4e68-b659-f85bfcd7717b",
   "metadata": {},
   "outputs": [
    {
     "name": "stdout",
     "output_type": "stream",
     "text": [
      "    number_siblings                       name  gender  age living_allowance  have_bf_gf                profession  daily_meals\n",
      "0                 1         Nakasujja Gertrude  female   33              NaN           1            Data Scientist            2\n",
      "1                 3      Arinda Asiimwe Atweta  female   23           50,000           1  Machine Learning Enginer            1\n",
      "2                 4        Ndjekornom Victoire    male   23           25,000           0            Data Scientist            1\n",
      "3                 0             KATURAMU EDGAR    male   27          500,000           0  Machine Learning Enginer            2\n",
      "4                 4          Abinsinguza Lasse    male   24          100,000           1            Data Scientist            2\n",
      "5                 4        Beingana Jim Junior    male   20           10,000           0            Data Scientist            3\n",
      "6                 6   Cyiza Ndoli Jean de Dieu    male   23           60,000           0              Data Analyst            2\n",
      "7                 8        MUSIIMENTA CISSYLYN  female   20          260,000           0  Machine Learning Enginer            3\n",
      "8                 2           Nakanwagu Vanesa  female   23          250,000           1            Data Scientist            3\n",
      "9                 9                Otim Ronald    male   25              NaN           0            Data Scientist            2\n",
      "10                1                  Levi Aine    male   24        1,000,000           0            Data Scientist            3\n",
      "11                1              NASAAZI TAKIA  female   23            2,000           0              Data Analyst            1\n",
      "12                5                      Alvin    male   23        2,500,000           1  Machine Learning Enginer            3\n",
      "13                3            MULINDWA YUSUF     male   22              NaN           0            Data Scientist            3\n",
      "14                2                     Hillal    male   32          150,000           0  Machine Learning Enginer            2\n",
      "15                9           mpairwe   lauben    male   26          760,000           1  Machine Learning Enginer            3\n",
      "16                4               Lutalo Allan    male   24          200,000           1            Data Scientist            3\n",
      "17                2                Efrata Aron  female   22          200,000           1              Data Analyst            2\n",
      "18                4                David Hope     male   22           35,000           0  Machine Learning Enginer            3\n",
      "19                1             ntegeka k pius    male   30          700,000           0            Data Scientist            3\n",
      "20                4            Yapyeko Rebecca  female   24          500,000           0            Data Scientist            3\n",
      "21                7      NKETAMUKAMA TARASISIO    male   22          600,000           0  Machine Learning Enginer            2\n",
      "22                3    Ampaire Stacey Nuwagaba  female   22          300,000           0              Data Analyst            2\n",
      "23                5            Ahaabwe Derrick    male   22          200,000           0            Data Scientist            2\n",
      "24                0           Ssentongo Henry     male   27              NaN           0  Machine Learning Enginer            1\n",
      "25                6                     Shadia  female   23           20,000           0            Data Scientist            2\n",
      "26                4                     Harlan    male   24          250,000           0            Data Scientist            3\n",
      "27                1              AMADILE MAJID    male   23              NaN           0              Data Analyst            2\n",
      "28                8                Nankya Elsa  female   23          120,000           1            Data Scientist            2\n",
      "29                2         Asiimire Patricia   female   22        1,000,000           0            Data Scientist            3\n",
      "30                2           Rwakasiisi Edwin    male   24          150,000           1            Data Scientist            3\n",
      "31                5            Ampumuza Aijuka  female   23          500,000           0            Data Scientist            2\n",
      "32                5         TUKWASIIBWE MARTIN    male   23          200,000           0              Data Analyst            2\n",
      "33                8       Olowo Omondi Philly     male   23              NaN           1            Data Scientist            2\n",
      "34                4  Kisembo Rodgers Bangirana    male   23          300,000           0              Data Analyst            3\n",
      "35                3           NIWAMANYA JAMES     male   29              NaN           1  Machine Learning Enginer            1\n"
     ]
    }
   ],
   "source": [
    "# DATA CLEANING\n",
    "# Read the csv file given \n",
    "import pandas as pd\n",
    "data = pd.read_csv(\"bse_data.csv\")\n",
    "print(data.to_string())"
   ]
  },
  {
   "cell_type": "code",
   "execution_count": null,
   "id": "7f06765b",
   "metadata": {},
   "outputs": [],
   "source": [
    "# Data preprocessing\n",
    "# Deal with the following\n",
    "# 1. Wrong data\n",
    "# 2. duplicates\n",
    "# 3. Wrong format\n",
    "# 4. Empty cell \n",
    "# Then after doing this, you do data exploratory analysis"
   ]
  },
  {
   "cell_type": "code",
   "execution_count": 3,
   "id": "a2924640",
   "metadata": {},
   "outputs": [
    {
     "name": "stdout",
     "output_type": "stream",
     "text": [
      "0\n"
     ]
    }
   ],
   "source": [
    "# Check for the duplicates in the data\n",
    "import pandas as pd\n",
    "df = pd.read_csv(\"bse_data.csv\")\n",
    "print(df.duplicated().sum())\n",
    "\n",
    "# To check the number of duplicates u can use \n",
    "# print(df.duplicated().sum())"
   ]
  },
  {
   "cell_type": "code",
   "execution_count": 4,
   "id": "e75d4fc6",
   "metadata": {},
   "outputs": [
    {
     "name": "stdout",
     "output_type": "stream",
     "text": [
      "number_siblings     0\n",
      "name                0\n",
      "gender              0\n",
      "age                 0\n",
      "living_allowance    7\n",
      "have_bf_gf          0\n",
      "profession          0\n",
      "daily_meals         0\n",
      "dtype: int64\n"
     ]
    }
   ],
   "source": [
    "# Check for empty cell\n",
    "print(df.isnull().sum())"
   ]
  },
  {
   "cell_type": "code",
   "execution_count": 20,
   "id": "9cb341db",
   "metadata": {},
   "outputs": [
    {
     "name": "stdout",
     "output_type": "stream",
     "text": [
      "    number_siblings                       name  gender  age living_allowance  have_bf_gf                profession  daily_meals\n",
      "0                 1         Nakasujja Gertrude  female   33              NaN           1            Data Scientist            2\n",
      "1                 3      Arinda Asiimwe Atweta  female   23           50,000           1  Machine Learning Enginer            1\n",
      "2                 4        Ndjekornom Victoire    male   23           25,000           0            Data Scientist            1\n",
      "3                 0             KATURAMU EDGAR    male   27          500,000           0  Machine Learning Enginer            2\n",
      "4                 4          Abinsinguza Lasse    male   24          100,000           1            Data Scientist            2\n",
      "5                 4        Beingana Jim Junior    male   20           10,000           0            Data Scientist            3\n",
      "6                 6   Cyiza Ndoli Jean de Dieu    male   23           60,000           0              Data Analyst            2\n",
      "7                 8        MUSIIMENTA CISSYLYN  female   20          260,000           0  Machine Learning Enginer            3\n",
      "8                 2           Nakanwagu Vanesa  female   23          250,000           1            Data Scientist            3\n",
      "9                 9                Otim Ronald    male   25              NaN           0            Data Scientist            2\n",
      "10                1                  Levi Aine    male   24        1,000,000           0            Data Scientist            3\n",
      "11                1              NASAAZI TAKIA  female   23            2,000           0              Data Analyst            1\n",
      "12                5                      Alvin    male   23        2,500,000           1  Machine Learning Enginer            3\n",
      "13                3            MULINDWA YUSUF     male   22              NaN           0            Data Scientist            3\n",
      "14                2                     Hillal    male   32          150,000           0  Machine Learning Enginer            2\n",
      "15                9           mpairwe   lauben    male   26          760,000           1  Machine Learning Enginer            3\n",
      "16                4               Lutalo Allan    male   24          200,000           1            Data Scientist            3\n",
      "17                2                Efrata Aron  female   22          200,000           1              Data Analyst            2\n",
      "18                4                David Hope     male   22           35,000           0  Machine Learning Enginer            3\n",
      "19                1             ntegeka k pius    male   30          700,000           0            Data Scientist            3\n",
      "20                4            Yapyeko Rebecca  female   24          500,000           0            Data Scientist            3\n",
      "21                7      NKETAMUKAMA TARASISIO    male   22          600,000           0  Machine Learning Enginer            2\n",
      "22                3    Ampaire Stacey Nuwagaba  female   22          300,000           0              Data Analyst            2\n",
      "23                5            Ahaabwe Derrick    male   22          200,000           0            Data Scientist            2\n",
      "24                0           Ssentongo Henry     male   27              NaN           0  Machine Learning Enginer            1\n",
      "25                6                     Shadia  female   23           20,000           0            Data Scientist            2\n",
      "26                4                     Harlan    male   24          250,000           0            Data Scientist            3\n",
      "27                1              AMADILE MAJID    male   23              NaN           0              Data Analyst            2\n",
      "28                8                Nankya Elsa  female   23          120,000           1            Data Scientist            2\n",
      "29                2         Asiimire Patricia   female   22        1,000,000           0            Data Scientist            3\n",
      "30                2           Rwakasiisi Edwin    male   24          150,000           1            Data Scientist            3\n",
      "31                5            Ampumuza Aijuka  female   23          500,000           0            Data Scientist            2\n",
      "32                5         TUKWASIIBWE MARTIN    male   23          200,000           0              Data Analyst            2\n",
      "33                8       Olowo Omondi Philly     male   23              NaN           1            Data Scientist            2\n",
      "34                4  Kisembo Rodgers Bangirana    male   23          300,000           0              Data Analyst            3\n",
      "35                3           NIWAMANYA JAMES     male   29              NaN           1  Machine Learning Enginer            1\n"
     ]
    }
   ],
   "source": [
    "\n",
    "# x = df[\"living_allowance\"].mean()\n",
    "df[\"living_allowance\"].fillna(67800,inplace = True)\n",
    "# print(data.to_string())"
   ]
  },
  {
   "cell_type": "code",
   "execution_count": null,
   "id": "891807e3",
   "metadata": {},
   "outputs": [],
   "source": [
    "# EXPLORATORY DATA ANALYSIS NOW\n"
   ]
  },
  {
   "cell_type": "code",
   "execution_count": 6,
   "id": "4f0857a9",
   "metadata": {},
   "outputs": [
    {
     "name": "stdout",
     "output_type": "stream",
     "text": [
      "       number_siblings        age  have_bf_gf  daily_meals\n",
      "count        36.000000  36.000000   36.000000    36.000000\n",
      "mean          3.888889  24.055556    0.333333     2.277778\n",
      "std           2.504599   2.936903    0.478091     0.701472\n",
      "min           0.000000  20.000000    0.000000     1.000000\n",
      "25%           2.000000  22.750000    0.000000     2.000000\n",
      "50%           4.000000  23.000000    0.000000     2.000000\n",
      "75%           5.000000  24.000000    1.000000     3.000000\n",
      "max           9.000000  33.000000    1.000000     3.000000\n"
     ]
    }
   ],
   "source": [
    "# Statistics\n",
    "print(df.describe())"
   ]
  },
  {
   "cell_type": "code",
   "execution_count": 7,
   "id": "bb46f96e",
   "metadata": {},
   "outputs": [
    {
     "name": "stdout",
     "output_type": "stream",
     "text": [
      "0    24\n",
      "1    12\n",
      "Name: have_bf_gf, dtype: int64\n"
     ]
    }
   ],
   "source": [
    "print(df[\"have_bf_gf\"].value_counts())"
   ]
  },
  {
   "cell_type": "code",
   "execution_count": 8,
   "id": "7ac584c5",
   "metadata": {},
   "outputs": [
    {
     "name": "stdout",
     "output_type": "stream",
     "text": [
      "male      24\n",
      "female    12\n",
      "Name: gender, dtype: int64\n"
     ]
    }
   ],
   "source": [
    "print(df[\"gender\"].value_counts())"
   ]
  },
  {
   "cell_type": "code",
   "execution_count": 8,
   "id": "8239fc1e",
   "metadata": {},
   "outputs": [
    {
     "ename": "ModuleNotFoundError",
     "evalue": "No module named 'seaborn'",
     "output_type": "error",
     "traceback": [
      "\u001b[0;31m---------------------------------------------------------------------------\u001b[0m",
      "\u001b[0;31mModuleNotFoundError\u001b[0m                       Traceback (most recent call last)",
      "Cell \u001b[0;32mIn[8], line 2\u001b[0m\n\u001b[1;32m      1\u001b[0m \u001b[38;5;66;03m# DATA VISUALIZATION\u001b[39;00m\n\u001b[0;32m----> 2\u001b[0m \u001b[38;5;28;01mimport\u001b[39;00m \u001b[38;5;21;01mseaborn\u001b[39;00m \u001b[38;5;28;01mas\u001b[39;00m \u001b[38;5;21;01msns\u001b[39;00m\n\u001b[1;32m      3\u001b[0m \u001b[38;5;28;01mimport\u001b[39;00m \u001b[38;5;21;01mmatplotlib\u001b[39;00m\u001b[38;5;21;01m.\u001b[39;00m\u001b[38;5;21;01mpyplot\u001b[39;00m \u001b[38;5;28;01mas\u001b[39;00m \u001b[38;5;21;01mplt\u001b[39;00m\n\u001b[1;32m      5\u001b[0m \u001b[38;5;66;03m# have a bf rate by gender \u001b[39;00m\n",
      "\u001b[0;31mModuleNotFoundError\u001b[0m: No module named 'seaborn'"
     ]
    }
   ],
   "source": [
    "# DATA VISUALIZATION\n",
    "import seaborn as sns\n",
    "import matplotlib.pyplot as plt\n",
    "\n",
    "# have a bf rate by gender \n",
    "sns.barplot(x = 'gender', y = 'have_bf_gf', data = df)\n",
    "plt.title('have bf &gf Rate by Gender')\n",
    "plt.show()\n",
    "\n",
    "# Age distribution\n",
    "sns.histplot(df['age'], bins = 30, kde = True)\n",
    "plt.title('Age Distribution')\n",
    "plt.show()\n",
    "\n",
    "# Gender \n",
    "sns.histplot(df['gender'], bins = 30, kde = True)\n",
    "plt.title('Age Distribution')\n",
    "plt.show()\n",
    "\n",
    "# Scatter\n",
    "df.plot(kind = 'scatter', x = 'gender', y = 'age')\n",
    "plt.show()"
   ]
  },
  {
   "cell_type": "code",
   "execution_count": null,
   "id": "ee27740f",
   "metadata": {},
   "outputs": [],
   "source": []
  }
 ],
 "metadata": {
  "kernelspec": {
   "display_name": "Python 3 (ipykernel)",
   "language": "python",
   "name": "python3"
  },
  "language_info": {
   "codemirror_mode": {
    "name": "ipython",
    "version": 3
   },
   "file_extension": ".py",
   "mimetype": "text/x-python",
   "name": "python",
   "nbconvert_exporter": "python",
   "pygments_lexer": "ipython3",
   "version": "3.10.9"
  }
 },
 "nbformat": 4,
 "nbformat_minor": 5
}
